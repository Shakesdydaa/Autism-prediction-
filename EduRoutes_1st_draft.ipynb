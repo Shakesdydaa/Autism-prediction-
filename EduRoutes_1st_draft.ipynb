{
  "nbformat": 4,
  "nbformat_minor": 0,
  "metadata": {
    "colab": {
      "provenance": [],
      "authorship_tag": "ABX9TyOxRwgj/N4/IA+8kACE0tMY",
      "include_colab_link": true
    },
    "kernelspec": {
      "name": "python3",
      "display_name": "Python 3"
    },
    "language_info": {
      "name": "python"
    }
  },
  "cells": [
    {
      "cell_type": "markdown",
      "metadata": {
        "id": "view-in-github",
        "colab_type": "text"
      },
      "source": [
        "<a href=\"https://colab.research.google.com/github/Shakesdydaa/Autism-prediction-/blob/main/EduRoutes_1st_draft.ipynb\" target=\"_parent\"><img src=\"https://colab.research.google.com/assets/colab-badge.svg\" alt=\"Open In Colab\"/></a>"
      ]
    },
    {
      "cell_type": "markdown",
      "source": [
        "creating a sample dataset for Juja since real student location data may not be available."
      ],
      "metadata": {
        "id": "LTEA4z72KthC"
      }
    },
    {
      "cell_type": "code",
      "source": [
        "\n",
        "import numpy as np\n",
        "import pandas as pd\n",
        "\n",
        "# School location (approximate coordinates of a school in Juja(juja preparatory))\n",
        "school_lat = -1.11767\n",
        "school_lng = 37.005043\n",
        "\n",
        "# Generate 100 random student locations within ~5km radius of school\n",
        "np.random.seed(42)\n",
        "num_students = 100\n",
        "radius = 0.05  # ~5km in degrees\n",
        "\n",
        "# Generate random points around the school\n",
        "angles = np.random.uniform(0, 2*np.pi, num_students)\n",
        "distances = np.random.uniform(0, radius, num_students)\n",
        "student_lats = school_lat + distances * np.sin(angles)\n",
        "student_lngs = school_lng + distances * np.cos(angles)\n",
        "\n",
        "# Create DataFrame\n",
        "students = pd.DataFrame({\n",
        "    'student_id': range(1, num_students+1),\n",
        "    'latitude': student_lats,\n",
        "    'longitude': student_lngs,\n",
        "    'morning_pickup_time': '07:00',  # Can make this variable later\n",
        "    'evening_dropoff_time': '17:00'  # Can make this variable later\n",
        "})\n",
        "\n",
        "# Save to CSV\n",
        "students.to_csv('juja_student_locations.csv', index=False)"
      ],
      "metadata": {
        "id": "LuyqRLEXK2cL"
      },
      "execution_count": null,
      "outputs": []
    },
    {
      "cell_type": "code",
      "source": [
        "pip install googlemaps"
      ],
      "metadata": {
        "colab": {
          "base_uri": "https://localhost:8080/"
        },
        "id": "qDGHkH-MMAd-",
        "outputId": "bfd09b0e-7086-4f8a-9f56-2c58b408f4b7"
      },
      "execution_count": null,
      "outputs": [
        {
          "output_type": "stream",
          "name": "stdout",
          "text": [
            "Collecting googlemaps\n",
            "  Downloading googlemaps-4.10.0.tar.gz (33 kB)\n",
            "  Preparing metadata (setup.py) ... \u001b[?25l\u001b[?25hdone\n",
            "Requirement already satisfied: requests<3.0,>=2.20.0 in /usr/local/lib/python3.11/dist-packages (from googlemaps) (2.32.3)\n",
            "Requirement already satisfied: charset-normalizer<4,>=2 in /usr/local/lib/python3.11/dist-packages (from requests<3.0,>=2.20.0->googlemaps) (3.4.1)\n",
            "Requirement already satisfied: idna<4,>=2.5 in /usr/local/lib/python3.11/dist-packages (from requests<3.0,>=2.20.0->googlemaps) (3.10)\n",
            "Requirement already satisfied: urllib3<3,>=1.21.1 in /usr/local/lib/python3.11/dist-packages (from requests<3.0,>=2.20.0->googlemaps) (2.4.0)\n",
            "Requirement already satisfied: certifi>=2017.4.17 in /usr/local/lib/python3.11/dist-packages (from requests<3.0,>=2.20.0->googlemaps) (2025.4.26)\n",
            "Building wheels for collected packages: googlemaps\n",
            "  Building wheel for googlemaps (setup.py) ... \u001b[?25l\u001b[?25hdone\n",
            "  Created wheel for googlemaps: filename=googlemaps-4.10.0-py3-none-any.whl size=40714 sha256=f4eb636a1895de352eee461704fabd74d3fa73a88e6f5cb46f58b2d7336ac9a4\n",
            "  Stored in directory: /root/.cache/pip/wheels/f1/09/77/3cc2f5659cbc62341b30f806aca2b25e6a26c351daa5b1f49a\n",
            "Successfully built googlemaps\n",
            "Installing collected packages: googlemaps\n",
            "Successfully installed googlemaps-4.10.0\n"
          ]
        }
      ]
    },
    {
      "cell_type": "markdown",
      "source": [
        "Distance Matrix Function\n"
      ],
      "metadata": {
        "id": "qZBIMIoHMjw8"
      }
    },
    {
      "cell_type": "code",
      "source": [
        "import googlemaps\n",
        "import pandas as pd\n",
        "import numpy as np\n",
        "import os\n",
        "from datetime import datetime\n",
        "\n",
        "def get_distance_matrix(api_key, locations, mode='driving'):\n",
        "    \"\"\"Get distance matrix from Google Maps API\"\"\"\n",
        "\n",
        "    gmaps = googlemaps.Client(key=api_key)\n",
        "\n",
        "    # Convert to list of (lat,lng) tuples\n",
        "    locations = [(lat, lng) for lat, lng in locations]\n",
        "\n",
        "    # Get matrix\n",
        "    matrix = gmaps.distance_matrix(\n",
        "        origins=locations,\n",
        "        destinations=locations,\n",
        "        mode=mode,\n",
        "        departure_time=datetime.now()\n",
        "    )\n",
        "\n",
        "    # Parse results\n",
        "    distance_matrix = np.zeros((len(locations), len(locations)))\n",
        "    time_matrix = np.zeros((len(locations), len(locations)))\n",
        "\n",
        "    for i, row in enumerate(matrix['rows']):\n",
        "        for j, element in enumerate(row['elements']):\n",
        "            if element['status'] == 'OK':\n",
        "                distance_matrix[i,j] = element['distance']['value']  # meters\n",
        "                time_matrix[i,j] = element['duration']['value']  # seconds\n",
        "\n",
        "    return distance_matrix, time_matrix\n",
        "\n",
        "def save_matrix(matrix, filename):\n",
        "    \"\"\"Save matrix to file\"\"\"\n",
        "    np.save(filename, matrix)\n",
        "\n",
        "def load_matrix(filename):\n",
        "    \"\"\"Load matrix from file\"\"\"\n",
        "    return np.load(filename)"
      ],
      "metadata": {
        "id": "L6ojSVuxMSKE"
      },
      "execution_count": null,
      "outputs": []
    },
    {
      "cell_type": "markdown",
      "source": [
        "OR-Tools Implementation"
      ],
      "metadata": {
        "id": "PA5yV3HBNCTi"
      }
    },
    {
      "cell_type": "code",
      "source": [
        "from ortools.constraint_solver import routing_enums_pb2\n",
        "from ortools.constraint_solver import pywrapcp\n",
        "\n",
        "def create_data_model(distance_matrix, time_matrix, num_vehicles=2, vehicle_capacity=50):\n",
        "    \"\"\"Stores the data for the problem\"\"\"\n",
        "    data = {}\n",
        "    data['distance_matrix'] = distance_matrix.tolist()\n",
        "    data['time_matrix'] = time_matrix.tolist()\n",
        "    data['num_vehicles'] = num_vehicles\n",
        "    data['depot'] = 0  # School is at index 0\n",
        "    data['demands'] = [0] + [1]*(len(distance_matrix)-1)  # School has 0 demand, each student 1\n",
        "    data['vehicle_capacities'] = [vehicle_capacity]*num_vehicles\n",
        "    return data\n",
        "\n",
        "def optimize_routes(data, time_limit_seconds=30):\n",
        "    \"\"\"Solve the routing problem\"\"\"\n",
        "\n",
        "    manager = pywrapcp.RoutingIndexManager(\n",
        "        len(data['distance_matrix']),\n",
        "        data['num_vehicles'],\n",
        "        data['depot']\n",
        "    )\n",
        "\n",
        "    routing = pywrapcp.RoutingModel(manager)\n",
        "\n",
        "    # Define distance callback\n",
        "    def distance_callback(from_index, to_index):\n",
        "        from_node = manager.IndexToNode(from_index)\n",
        "        to_node = manager.IndexToNode(to_index)\n",
        "        return data['distance_matrix'][from_node][to_node]\n",
        "\n",
        "    transit_callback_index = routing.RegisterTransitCallback(distance_callback)\n",
        "    routing.SetArcCostEvaluatorOfAllVehicles(transit_callback_index)\n",
        "\n",
        "    # Add capacity constraint\n",
        "    def demand_callback(from_index):\n",
        "        from_node = manager.IndexToNode(from_index)\n",
        "        return data['demands'][from_node]\n",
        "\n",
        "    demand_callback_index = routing.RegisterUnaryTransitCallback(demand_callback)\n",
        "    routing.AddDimensionWithVehicleCapacity(\n",
        "        demand_callback_index,\n",
        "        0,  # null capacity slack\n",
        "        data['vehicle_capacities'],  # vehicle maximum capacities\n",
        "        True,  # start cumul to zero\n",
        "        'Capacity'\n",
        "    )\n",
        "\n",
        "    # Setting first solution heuristic\n",
        "    search_parameters = pywrapcp.DefaultRoutingSearchParameters()\n",
        "    search_parameters.first_solution_strategy = (\n",
        "        routing_enums_pb2.FirstSolutionStrategy.PATH_CHEAPEST_ARC\n",
        "    )\n",
        "    search_parameters.local_search_metaheuristic = (\n",
        "        routing_enums_pb2.LocalSearchMetaheuristic.GUIDED_LOCAL_SEARCH\n",
        "    )\n",
        "    search_parameters.time_limit.seconds = time_limit_seconds\n",
        "\n",
        "    # Solve the problem\n",
        "    solution = routing.SolveWithParameters(search_parameters)\n",
        "\n",
        "    # Extract routes if solution exists\n",
        "    routes = []\n",
        "    if solution:\n",
        "        for route_nbr in range(routing.vehicles()):\n",
        "            index = routing.Start(route_nbr)\n",
        "            route = []\n",
        "            while not routing.IsEnd(index):\n",
        "                node = manager.IndexToNode(index)\n",
        "                route.append(node)\n",
        "                index = solution.Value(routing.NextVar(index))\n",
        "            routes.append(route)\n",
        "\n",
        "    return routes, manager, routing, solution"
      ],
      "metadata": {
        "id": "MOEPfh0LM-1Y"
      },
      "execution_count": null,
      "outputs": []
    },
    {
      "cell_type": "markdown",
      "source": [
        "Visualization & Reporting"
      ],
      "metadata": {
        "id": "nMVVBUzbNmNb"
      }
    },
    {
      "cell_type": "code",
      "source": [
        "import folium\n",
        "from folium.plugins import MarkerCluster\n",
        "\n",
        "def visualize_routes(students_df, school_location, routes, distance_matrix):\n",
        "    \"\"\"Create interactive map with optimized routes\"\"\"\n",
        "\n",
        "    # Create base map centered on school\n",
        "    m = folium.Map(\n",
        "        location=[school_location['lat'], school_location['lng']],\n",
        "        zoom_start=14\n",
        "    )\n",
        "\n",
        "    # Add school marker\n",
        "    folium.Marker(\n",
        "        [school_location['lat'], school_location['lng']],\n",
        "        popup='School',\n",
        "        icon=folium.Icon(color='green', icon='graduation-cap', prefix='fa')\n",
        "    ).add_to(m)\n",
        "\n",
        "    # Color palette for buses\n",
        "    bus_colors = ['red', 'blue', 'purple', 'orange', 'darkred']\n",
        "\n",
        "    # Plot each route\n",
        "    for i, route in enumerate(routes):\n",
        "        # Skip the depot (school) if it's the only point\n",
        "        if len(route) <= 1:\n",
        "            continue\n",
        "\n",
        "        # Get route coordinates\n",
        "        route_coords = []\n",
        "        for node in route:\n",
        "            if node == 0:  # School\n",
        "                route_coords.append([school_location['lat'], school_location['lng']])\n",
        "            else:\n",
        "                student = students_df.iloc[node-1]\n",
        "                route_coords.append([student['latitude'], student['longitude']])\n",
        "\n",
        "        # Add route line\n",
        "        folium.PolyLine(\n",
        "            route_coords,\n",
        "            color=bus_colors[i % len(bus_colors)],\n",
        "            weight=5,\n",
        "            opacity=0.8,\n",
        "            popup=f'Bus {i+1} Route'\n",
        "        ).add_to(m)\n",
        "\n",
        "        # Add markers for each stop\n",
        "        for node in route:\n",
        "            if node == 0:\n",
        "                continue  # Skip school (already added)\n",
        "            student = students_df.iloc[node-1]\n",
        "            folium.CircleMarker(\n",
        "                [student['latitude'], student['longitude']],\n",
        "                radius=5,\n",
        "                color=bus_colors[i % len(bus_colors)],\n",
        "                fill=True,\n",
        "                fill_color=bus_colors[i % len(bus_colors)],\n",
        "                popup=f'Student {node}'\n",
        "            ).add_to(m)\n",
        "\n",
        "    # Calculate and display route metrics\n",
        "    total_distance = 0\n",
        "    for i, route in enumerate(routes):\n",
        "        route_distance = 0\n",
        "        for j in range(len(route)-1):\n",
        "            from_node = route[j]\n",
        "            to_node = route[j+1]\n",
        "            route_distance += distance_matrix[from_node][to_node]\n",
        "\n",
        "        total_distance += route_distance\n",
        "        folium.Marker(\n",
        "            [school_location['lat']-0.01, school_location['lng']-0.01],\n",
        "            icon=folium.DivIcon(html=f\"\"\"<div>Bus {i+1}: {(route_distance/1000):.1f}km</div>\"\"\")\n",
        "        ).add_to(m)\n",
        "\n",
        "    # Add total distance\n",
        "    folium.Marker(\n",
        "        [school_location['lat']-0.02, school_location['lng']-0.01],\n",
        "        icon=folium.DivIcon(html=f\"\"\"<div>Total: {(total_distance/1000):.1f}km</div>\"\"\")\n",
        "    ).add_to(m)\n",
        "\n",
        "    return m"
      ],
      "metadata": {
        "id": "JiuF4sqsNlwi"
      },
      "execution_count": null,
      "outputs": []
    },
    {
      "cell_type": "markdown",
      "source": [
        "Putting it together"
      ],
      "metadata": {
        "id": "UTdPiiZmOFJ2"
      }
    },
    {
      "cell_type": "code",
      "source": [
        "# Load student data\n",
        "students = pd.read_csv('juja_student_locations.csv')\n",
        "\n",
        "# Prepare locations (school first, then students)\n",
        "locations = [(school_lat, school_lng)] + list(zip(students['latitude'], students['longitude']))\n",
        "\n",
        "# Get distance matrix (or load if already saved)\n",
        "distance_matrix, time_matrix = get_distance_matrix('YOUR_API_KEY', locations)\n",
        "save_matrix(distance_matrix, 'distance_matrix.npy')\n",
        "save_matrix(time_matrix, 'time_matrix.npy')\n",
        "\n",
        "# Or load previously saved matrices\n",
        "# distance_matrix = load_matrix('distance_matrix.npy')\n",
        "# time_matrix = load_matrix('time_matrix.npy')\n",
        "\n",
        "# Create data model\n",
        "data = create_data_model(distance_matrix, time_matrix)\n",
        "\n",
        "# Optimize routes\n",
        "routes, manager, routing, solution = optimize_routes(data)\n",
        "\n",
        "# Visualize\n",
        "school_location = {'lat': school_lat, 'lng': school_lng}\n",
        "map = visualize_routes(students, school_location, routes, distance_matrix)\n",
        "map.save('optimized_routes.html')"
      ],
      "metadata": {
        "id": "HxMODwuZN32e"
      },
      "execution_count": null,
      "outputs": []
    }
  ]
}